{
 "cells": [
  {
   "cell_type": "markdown",
   "metadata": {},
   "source": [
    "# Anki deck generator\n",
    "## Based on the `genanki` library\n",
    "Generalized anki deck generator. It uses the .pkl (pickle) files in the root directory to generate multiple nested decks for Anki, by language and categorie.\n",
    "- File format (Pandas dataframe as Python Pickle): `<language-name>.pkl` or `<language-name>-<word-categorie>.pkl`"
   ]
  },
  {
   "cell_type": "code",
   "execution_count": 5,
   "metadata": {},
   "outputs": [],
   "source": [
    "# Imports\n",
    "import genanki\n",
    "import pandas as pd\n",
    "import glob"
   ]
  },
  {
   "cell_type": "code",
   "execution_count": 6,
   "metadata": {},
   "outputs": [],
   "source": [
    "# Define general genanki model\n",
    "my_model = genanki.Model(\n",
    "  202208030953, # 2022-08-03- 09:53\n",
    "  'Nota basica con audio',\n",
    "  fields=[\n",
    "    {'name': 'Front'},\n",
    "    {'name': 'Audio'},\n",
    "    {'name': 'Back'},\n",
    "  ],\n",
    "  css='''\n",
    "  .card {\n",
    "    font-family: arial;\n",
    "    font-size: 20px;\n",
    "    text-align: center;\n",
    "    color: black;\n",
    "    background-color: white;\n",
    "  }  \n",
    "  ''',\n",
    "  templates=[\n",
    "    {\n",
    "      'name': 'Card 1',\n",
    "      'qfmt': '{{Front}}<br>{{Audio}}',\n",
    "      'afmt': '{{FrontSide}}<hr id=answer>{{Back}}',\n",
    "    },\n",
    "  ])"
   ]
  },
  {
   "cell_type": "code",
   "execution_count": 7,
   "metadata": {},
   "outputs": [],
   "source": [
    "def load_pkl_files():\n",
    "    dataframes = {}\n",
    "    for file in glob.glob('*.pkl'):\n",
    "        print(f'Filename: {file}') \n",
    "        filename_divided = file.replace('.pkl', '').split('-')\n",
    "        temp_df = pd.read_pickle(file)\n",
    "        elements = len(filename_divided)\n",
    "        if elements == 1:\n",
    "            language = filename_divided[0]\n",
    "        elif elements == 2:\n",
    "            language, categorie = filename_divided\n",
    "            temp_df['categoria'] = categorie\n",
    "        else:\n",
    "            raise ValueError('Wrong filename. <language>-<categorie>.pkl for non classified files or <language>.pkl for classified files')\n",
    "        dataframes[language] = temp_df\n",
    "    return dataframes\n",
    "        "
   ]
  },
  {
   "cell_type": "code",
   "execution_count": 8,
   "metadata": {},
   "outputs": [],
   "source": [
    "def correct_categorie(cat: str) -> str:\n",
    "    if cat == 'nombre':\n",
    "        return 'Sustantivo'\n",
    "    elif cat == 'nombre propio':\n",
    "        return 'Sustantivo propio'\n",
    "    else:\n",
    "        return cat"
   ]
  },
  {
   "cell_type": "code",
   "execution_count": 9,
   "metadata": {},
   "outputs": [],
   "source": [
    "def generate_decks(language, df) -> list:\n",
    "    print(language)\n",
    "    decks = []\n",
    "    categories = df.categoria.unique()\n",
    "    for cat in categories:\n",
    "        df_by_cat = df[df.categoria == cat]\n",
    "        deck_name = f'{language.capitalize()}::{correct_categorie(cat).capitalize()}'\n",
    "        my_deck = genanki.Deck(hash(deck_name), deck_name)\n",
    "        for _, row in df_by_cat.iterrows():\n",
    "            # print(row[\"Name\"], row[\"Age\"])\n",
    "            card = genanki.Note(model=my_model, fields=[row['palabra'], '', row['traduccion']])\n",
    "            my_deck.add_note(card)\n",
    "        decks.append(my_deck)\n",
    "    return decks"
   ]
  },
  {
   "cell_type": "code",
   "execution_count": 10,
   "metadata": {},
   "outputs": [],
   "source": [
    "def package_and_save(filename, deck):\n",
    "    genanki.Package(deck).write_to_file(f'{filename}.apkg')"
   ]
  },
  {
   "cell_type": "code",
   "execution_count": 11,
   "metadata": {},
   "outputs": [
    {
     "name": "stdout",
     "output_type": "stream",
     "text": [
      "Filename: aleman-sustantivo.pkl\n",
      "Filename: ruso.pkl\n"
     ]
    }
   ],
   "source": [
    "dataframes = load_pkl_files()"
   ]
  },
  {
   "cell_type": "code",
   "execution_count": 12,
   "metadata": {},
   "outputs": [
    {
     "name": "stdout",
     "output_type": "stream",
     "text": [
      "aleman\n",
      "ruso\n"
     ]
    }
   ],
   "source": [
    "for language, df in dataframes.items():\n",
    "    decks  = generate_decks(language, df)\n",
    "    package_and_save(language, decks)"
   ]
  }
 ],
 "metadata": {
  "kernelspec": {
   "display_name": "Python 3.9.5 64-bit",
   "language": "python",
   "name": "python3"
  },
  "language_info": {
   "codemirror_mode": {
    "name": "ipython",
    "version": 3
   },
   "file_extension": ".py",
   "mimetype": "text/x-python",
   "name": "python",
   "nbconvert_exporter": "python",
   "pygments_lexer": "ipython3",
   "version": "3.9.5"
  },
  "orig_nbformat": 4,
  "vscode": {
   "interpreter": {
    "hash": "916dbcbb3f70747c44a77c7bcd40155683ae19c65e1c03b4aa3499c5328201f1"
   }
  }
 },
 "nbformat": 4,
 "nbformat_minor": 2
}
